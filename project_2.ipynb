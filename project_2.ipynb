{
 "cells": [
  {
   "cell_type": "code",
   "execution_count": 1,
   "id": "3d97ee5a",
   "metadata": {},
   "outputs": [],
   "source": [
    "import pandas as pd\n",
    "import numpy as np\n",
    "import seaborn as sns\n",
    "import matplotlib.pyplot as pl\n",
    "import matplotlib.pyplot as plt"
   ]
  },
  {
   "cell_type": "code",
   "execution_count": 2,
   "id": "232a161e",
   "metadata": {},
   "outputs": [
    {
     "data": {
      "text/html": [
       "<div>\n",
       "<style scoped>\n",
       "    .dataframe tbody tr th:only-of-type {\n",
       "        vertical-align: middle;\n",
       "    }\n",
       "\n",
       "    .dataframe tbody tr th {\n",
       "        vertical-align: top;\n",
       "    }\n",
       "\n",
       "    .dataframe thead th {\n",
       "        text-align: right;\n",
       "    }\n",
       "</style>\n",
       "<table border=\"1\" class=\"dataframe\">\n",
       "  <thead>\n",
       "    <tr style=\"text-align: right;\">\n",
       "      <th></th>\n",
       "      <th>Title</th>\n",
       "      <th>Genre</th>\n",
       "      <th>Premiere</th>\n",
       "      <th>Runtime</th>\n",
       "      <th>IMDB Score</th>\n",
       "      <th>Language</th>\n",
       "    </tr>\n",
       "  </thead>\n",
       "  <tbody>\n",
       "    <tr>\n",
       "      <th>0</th>\n",
       "      <td>Enter the Anime</td>\n",
       "      <td>Documentary</td>\n",
       "      <td>August 5, 2019</td>\n",
       "      <td>58</td>\n",
       "      <td>2.5</td>\n",
       "      <td>English/Japanese</td>\n",
       "    </tr>\n",
       "    <tr>\n",
       "      <th>1</th>\n",
       "      <td>Dark Forces</td>\n",
       "      <td>Thriller</td>\n",
       "      <td>August 21, 2020</td>\n",
       "      <td>81</td>\n",
       "      <td>2.6</td>\n",
       "      <td>Spanish</td>\n",
       "    </tr>\n",
       "    <tr>\n",
       "      <th>2</th>\n",
       "      <td>The App</td>\n",
       "      <td>Science fiction/Drama</td>\n",
       "      <td>December 26, 2019</td>\n",
       "      <td>79</td>\n",
       "      <td>2.6</td>\n",
       "      <td>Italian</td>\n",
       "    </tr>\n",
       "    <tr>\n",
       "      <th>3</th>\n",
       "      <td>The Open House</td>\n",
       "      <td>Horror thriller</td>\n",
       "      <td>January 19, 2018</td>\n",
       "      <td>94</td>\n",
       "      <td>3.2</td>\n",
       "      <td>English</td>\n",
       "    </tr>\n",
       "    <tr>\n",
       "      <th>4</th>\n",
       "      <td>Kaali Khuhi</td>\n",
       "      <td>Mystery</td>\n",
       "      <td>October 30, 2020</td>\n",
       "      <td>90</td>\n",
       "      <td>3.4</td>\n",
       "      <td>Hindi</td>\n",
       "    </tr>\n",
       "  </tbody>\n",
       "</table>\n",
       "</div>"
      ],
      "text/plain": [
       "             Title                  Genre           Premiere  Runtime  \\\n",
       "0  Enter the Anime            Documentary     August 5, 2019       58   \n",
       "1      Dark Forces               Thriller    August 21, 2020       81   \n",
       "2          The App  Science fiction/Drama  December 26, 2019       79   \n",
       "3   The Open House        Horror thriller   January 19, 2018       94   \n",
       "4      Kaali Khuhi                Mystery   October 30, 2020       90   \n",
       "\n",
       "   IMDB Score          Language  \n",
       "0         2.5  English/Japanese  \n",
       "1         2.6           Spanish  \n",
       "2         2.6           Italian  \n",
       "3         3.2           English  \n",
       "4         3.4             Hindi  "
      ]
     },
     "execution_count": 2,
     "metadata": {},
     "output_type": "execute_result"
    }
   ],
   "source": [
    "data = pd.read_csv(\"NetflixOriginals.csv\", encoding = \"ISO-8859-1\")\n",
    "data.head()"
   ]
  },
  {
   "cell_type": "code",
   "execution_count": 3,
   "id": "76788ded",
   "metadata": {},
   "outputs": [
    {
     "data": {
      "text/plain": [
       "(584, 6)"
      ]
     },
     "execution_count": 3,
     "metadata": {},
     "output_type": "execute_result"
    }
   ],
   "source": [
    "data.shape"
   ]
  },
  {
   "cell_type": "code",
   "execution_count": 4,
   "id": "9891454b",
   "metadata": {},
   "outputs": [
    {
     "name": "stdout",
     "output_type": "stream",
     "text": [
      "<class 'pandas.core.frame.DataFrame'>\n",
      "RangeIndex: 584 entries, 0 to 583\n",
      "Data columns (total 6 columns):\n",
      " #   Column      Non-Null Count  Dtype  \n",
      "---  ------      --------------  -----  \n",
      " 0   Title       584 non-null    object \n",
      " 1   Genre       584 non-null    object \n",
      " 2   Premiere    584 non-null    object \n",
      " 3   Runtime     584 non-null    int64  \n",
      " 4   IMDB Score  584 non-null    float64\n",
      " 5   Language    584 non-null    object \n",
      "dtypes: float64(1), int64(1), object(4)\n",
      "memory usage: 27.5+ KB\n"
     ]
    }
   ],
   "source": [
    "data.info()"
   ]
  },
  {
   "cell_type": "code",
   "execution_count": 5,
   "id": "f9ffde1a",
   "metadata": {},
   "outputs": [
    {
     "data": {
      "text/plain": [
       "Title         0\n",
       "Genre         0\n",
       "Premiere      0\n",
       "Runtime       0\n",
       "IMDB Score    0\n",
       "Language      0\n",
       "dtype: int64"
      ]
     },
     "execution_count": 5,
     "metadata": {},
     "output_type": "execute_result"
    }
   ],
   "source": [
    "data.isna().sum()"
   ]
  },
  {
   "cell_type": "code",
   "execution_count": 6,
   "id": "4f200f33",
   "metadata": {},
   "outputs": [
    {
     "data": {
      "text/html": [
       "<div>\n",
       "<style scoped>\n",
       "    .dataframe tbody tr th:only-of-type {\n",
       "        vertical-align: middle;\n",
       "    }\n",
       "\n",
       "    .dataframe tbody tr th {\n",
       "        vertical-align: top;\n",
       "    }\n",
       "\n",
       "    .dataframe thead th {\n",
       "        text-align: right;\n",
       "    }\n",
       "</style>\n",
       "<table border=\"1\" class=\"dataframe\">\n",
       "  <thead>\n",
       "    <tr style=\"text-align: right;\">\n",
       "      <th></th>\n",
       "      <th>Runtime</th>\n",
       "      <th>IMDB Score</th>\n",
       "    </tr>\n",
       "  </thead>\n",
       "  <tbody>\n",
       "    <tr>\n",
       "      <th>count</th>\n",
       "      <td>584.000000</td>\n",
       "      <td>584.000000</td>\n",
       "    </tr>\n",
       "    <tr>\n",
       "      <th>mean</th>\n",
       "      <td>93.577055</td>\n",
       "      <td>6.271747</td>\n",
       "    </tr>\n",
       "    <tr>\n",
       "      <th>std</th>\n",
       "      <td>27.761683</td>\n",
       "      <td>0.979256</td>\n",
       "    </tr>\n",
       "    <tr>\n",
       "      <th>min</th>\n",
       "      <td>4.000000</td>\n",
       "      <td>2.500000</td>\n",
       "    </tr>\n",
       "    <tr>\n",
       "      <th>25%</th>\n",
       "      <td>86.000000</td>\n",
       "      <td>5.700000</td>\n",
       "    </tr>\n",
       "    <tr>\n",
       "      <th>50%</th>\n",
       "      <td>97.000000</td>\n",
       "      <td>6.350000</td>\n",
       "    </tr>\n",
       "    <tr>\n",
       "      <th>75%</th>\n",
       "      <td>108.000000</td>\n",
       "      <td>7.000000</td>\n",
       "    </tr>\n",
       "    <tr>\n",
       "      <th>max</th>\n",
       "      <td>209.000000</td>\n",
       "      <td>9.000000</td>\n",
       "    </tr>\n",
       "  </tbody>\n",
       "</table>\n",
       "</div>"
      ],
      "text/plain": [
       "          Runtime  IMDB Score\n",
       "count  584.000000  584.000000\n",
       "mean    93.577055    6.271747\n",
       "std     27.761683    0.979256\n",
       "min      4.000000    2.500000\n",
       "25%     86.000000    5.700000\n",
       "50%     97.000000    6.350000\n",
       "75%    108.000000    7.000000\n",
       "max    209.000000    9.000000"
      ]
     },
     "execution_count": 6,
     "metadata": {},
     "output_type": "execute_result"
    }
   ],
   "source": [
    "data.describe()"
   ]
  },
  {
   "cell_type": "markdown",
   "id": "f2eac01e",
   "metadata": {},
   "source": [
    "# Veri setine göre uzun soluklu filmler hangi dilde oluşturulmuştur? Görselleştirme yapınız."
   ]
  },
  {
   "cell_type": "code",
   "execution_count": 7,
   "id": "abb2561b",
   "metadata": {},
   "outputs": [
    {
     "data": {
      "text/plain": [
       "count    584.000000\n",
       "mean      93.577055\n",
       "std       27.761683\n",
       "min        4.000000\n",
       "25%       86.000000\n",
       "50%       97.000000\n",
       "75%      108.000000\n",
       "max      209.000000\n",
       "Name: Runtime, dtype: float64"
      ]
     },
     "execution_count": 7,
     "metadata": {},
     "output_type": "execute_result"
    }
   ],
   "source": [
    "data['Runtime'].describe()"
   ]
  },
  {
   "cell_type": "code",
   "execution_count": 8,
   "id": "56b4dba2",
   "metadata": {},
   "outputs": [
    {
     "data": {
      "text/plain": [
       "93.58"
      ]
     },
     "execution_count": 8,
     "metadata": {},
     "output_type": "execute_result"
    }
   ],
   "source": [
    "round(data[\"Runtime\"].mean(),2)"
   ]
  },
  {
   "cell_type": "code",
   "execution_count": 9,
   "id": "0fa007c0",
   "metadata": {},
   "outputs": [
    {
     "data": {
      "text/html": [
       "<div>\n",
       "<style scoped>\n",
       "    .dataframe tbody tr th:only-of-type {\n",
       "        vertical-align: middle;\n",
       "    }\n",
       "\n",
       "    .dataframe tbody tr th {\n",
       "        vertical-align: top;\n",
       "    }\n",
       "\n",
       "    .dataframe thead th {\n",
       "        text-align: right;\n",
       "    }\n",
       "</style>\n",
       "<table border=\"1\" class=\"dataframe\">\n",
       "  <thead>\n",
       "    <tr style=\"text-align: right;\">\n",
       "      <th></th>\n",
       "      <th>Language</th>\n",
       "      <th>Runtime</th>\n",
       "    </tr>\n",
       "  </thead>\n",
       "  <tbody>\n",
       "    <tr>\n",
       "      <th>0</th>\n",
       "      <td>English/Akan</td>\n",
       "      <td>136.000000</td>\n",
       "    </tr>\n",
       "    <tr>\n",
       "      <th>1</th>\n",
       "      <td>Khmer/English/French</td>\n",
       "      <td>136.000000</td>\n",
       "    </tr>\n",
       "    <tr>\n",
       "      <th>2</th>\n",
       "      <td>Marathi</td>\n",
       "      <td>121.666667</td>\n",
       "    </tr>\n",
       "    <tr>\n",
       "      <th>3</th>\n",
       "      <td>English/Korean</td>\n",
       "      <td>121.000000</td>\n",
       "    </tr>\n",
       "    <tr>\n",
       "      <th>4</th>\n",
       "      <td>Spanish/Catalan</td>\n",
       "      <td>116.000000</td>\n",
       "    </tr>\n",
       "    <tr>\n",
       "      <th>5</th>\n",
       "      <td>Korean</td>\n",
       "      <td>115.833333</td>\n",
       "    </tr>\n",
       "    <tr>\n",
       "      <th>6</th>\n",
       "      <td>Hindi</td>\n",
       "      <td>115.787879</td>\n",
       "    </tr>\n",
       "    <tr>\n",
       "      <th>7</th>\n",
       "      <td>English/Arabic</td>\n",
       "      <td>114.000000</td>\n",
       "    </tr>\n",
       "    <tr>\n",
       "      <th>8</th>\n",
       "      <td>Indonesian</td>\n",
       "      <td>103.777778</td>\n",
       "    </tr>\n",
       "    <tr>\n",
       "      <th>9</th>\n",
       "      <td>Turkish</td>\n",
       "      <td>101.800000</td>\n",
       "    </tr>\n",
       "    <tr>\n",
       "      <th>10</th>\n",
       "      <td>Malay</td>\n",
       "      <td>101.000000</td>\n",
       "    </tr>\n",
       "    <tr>\n",
       "      <th>11</th>\n",
       "      <td>Tamil</td>\n",
       "      <td>101.000000</td>\n",
       "    </tr>\n",
       "    <tr>\n",
       "      <th>12</th>\n",
       "      <td>Thai</td>\n",
       "      <td>101.000000</td>\n",
       "    </tr>\n",
       "    <tr>\n",
       "      <th>13</th>\n",
       "      <td>Dutch</td>\n",
       "      <td>99.666667</td>\n",
       "    </tr>\n",
       "    <tr>\n",
       "      <th>14</th>\n",
       "      <td>German</td>\n",
       "      <td>99.600000</td>\n",
       "    </tr>\n",
       "    <tr>\n",
       "      <th>15</th>\n",
       "      <td>Filipino</td>\n",
       "      <td>99.500000</td>\n",
       "    </tr>\n",
       "    <tr>\n",
       "      <th>16</th>\n",
       "      <td>Japanese</td>\n",
       "      <td>99.333333</td>\n",
       "    </tr>\n",
       "    <tr>\n",
       "      <th>17</th>\n",
       "      <td>Polish</td>\n",
       "      <td>98.666667</td>\n",
       "    </tr>\n",
       "    <tr>\n",
       "      <th>18</th>\n",
       "      <td>Italian</td>\n",
       "      <td>98.357143</td>\n",
       "    </tr>\n",
       "    <tr>\n",
       "      <th>19</th>\n",
       "      <td>Spanish/English</td>\n",
       "      <td>96.000000</td>\n",
       "    </tr>\n",
       "    <tr>\n",
       "      <th>20</th>\n",
       "      <td>Spanish</td>\n",
       "      <td>93.387097</td>\n",
       "    </tr>\n",
       "    <tr>\n",
       "      <th>21</th>\n",
       "      <td>French</td>\n",
       "      <td>92.700000</td>\n",
       "    </tr>\n",
       "    <tr>\n",
       "      <th>22</th>\n",
       "      <td>English</td>\n",
       "      <td>91.817955</td>\n",
       "    </tr>\n",
       "    <tr>\n",
       "      <th>23</th>\n",
       "      <td>Portuguese</td>\n",
       "      <td>91.250000</td>\n",
       "    </tr>\n",
       "    <tr>\n",
       "      <th>24</th>\n",
       "      <td>English/Ukranian/Russian</td>\n",
       "      <td>91.000000</td>\n",
       "    </tr>\n",
       "    <tr>\n",
       "      <th>25</th>\n",
       "      <td>English/Taiwanese/Mandarin</td>\n",
       "      <td>91.000000</td>\n",
       "    </tr>\n",
       "    <tr>\n",
       "      <th>26</th>\n",
       "      <td>English/Russian</td>\n",
       "      <td>90.000000</td>\n",
       "    </tr>\n",
       "    <tr>\n",
       "      <th>27</th>\n",
       "      <td>English/Japanese</td>\n",
       "      <td>89.000000</td>\n",
       "    </tr>\n",
       "    <tr>\n",
       "      <th>28</th>\n",
       "      <td>Spanish/Basque</td>\n",
       "      <td>89.000000</td>\n",
       "    </tr>\n",
       "    <tr>\n",
       "      <th>29</th>\n",
       "      <td>Swedish</td>\n",
       "      <td>86.000000</td>\n",
       "    </tr>\n",
       "    <tr>\n",
       "      <th>30</th>\n",
       "      <td>Norwegian</td>\n",
       "      <td>86.000000</td>\n",
       "    </tr>\n",
       "    <tr>\n",
       "      <th>31</th>\n",
       "      <td>Thia/English</td>\n",
       "      <td>80.000000</td>\n",
       "    </tr>\n",
       "    <tr>\n",
       "      <th>32</th>\n",
       "      <td>English/Mandarin</td>\n",
       "      <td>59.000000</td>\n",
       "    </tr>\n",
       "    <tr>\n",
       "      <th>33</th>\n",
       "      <td>Bengali</td>\n",
       "      <td>41.000000</td>\n",
       "    </tr>\n",
       "    <tr>\n",
       "      <th>34</th>\n",
       "      <td>English/Swedish</td>\n",
       "      <td>40.000000</td>\n",
       "    </tr>\n",
       "    <tr>\n",
       "      <th>35</th>\n",
       "      <td>English/Spanish</td>\n",
       "      <td>39.200000</td>\n",
       "    </tr>\n",
       "    <tr>\n",
       "      <th>36</th>\n",
       "      <td>English/Hindi</td>\n",
       "      <td>32.500000</td>\n",
       "    </tr>\n",
       "    <tr>\n",
       "      <th>37</th>\n",
       "      <td>Georgian</td>\n",
       "      <td>23.000000</td>\n",
       "    </tr>\n",
       "  </tbody>\n",
       "</table>\n",
       "</div>"
      ],
      "text/plain": [
       "                      Language     Runtime\n",
       "0                 English/Akan  136.000000\n",
       "1         Khmer/English/French  136.000000\n",
       "2                      Marathi  121.666667\n",
       "3               English/Korean  121.000000\n",
       "4              Spanish/Catalan  116.000000\n",
       "5                       Korean  115.833333\n",
       "6                        Hindi  115.787879\n",
       "7               English/Arabic  114.000000\n",
       "8                   Indonesian  103.777778\n",
       "9                      Turkish  101.800000\n",
       "10                       Malay  101.000000\n",
       "11                       Tamil  101.000000\n",
       "12                        Thai  101.000000\n",
       "13                       Dutch   99.666667\n",
       "14                      German   99.600000\n",
       "15                    Filipino   99.500000\n",
       "16                    Japanese   99.333333\n",
       "17                      Polish   98.666667\n",
       "18                     Italian   98.357143\n",
       "19             Spanish/English   96.000000\n",
       "20                     Spanish   93.387097\n",
       "21                      French   92.700000\n",
       "22                     English   91.817955\n",
       "23                  Portuguese   91.250000\n",
       "24    English/Ukranian/Russian   91.000000\n",
       "25  English/Taiwanese/Mandarin   91.000000\n",
       "26             English/Russian   90.000000\n",
       "27            English/Japanese   89.000000\n",
       "28              Spanish/Basque   89.000000\n",
       "29                     Swedish   86.000000\n",
       "30                   Norwegian   86.000000\n",
       "31                Thia/English   80.000000\n",
       "32            English/Mandarin   59.000000\n",
       "33                     Bengali   41.000000\n",
       "34             English/Swedish   40.000000\n",
       "35             English/Spanish   39.200000\n",
       "36               English/Hindi   32.500000\n",
       "37                    Georgian   23.000000"
      ]
     },
     "execution_count": 9,
     "metadata": {},
     "output_type": "execute_result"
    }
   ],
   "source": [
    "long_runtime = data.groupby(\"Language\").agg({\"Runtime\": \"mean\"}).sort_values(by=\"Runtime\", ascending=False).reset_index()\n",
    "long_runtime"
   ]
  },
  {
   "cell_type": "code",
   "execution_count": 10,
   "id": "98b0cd96",
   "metadata": {},
   "outputs": [
    {
     "data": {
      "image/png": "[encoded data removed]",
      "text/plain": [
       "<Figure size 432x288 with 1 Axes>"
      ]
     },
     "metadata": {
      "needs_background": "light"
     },
     "output_type": "display_data"
    }
   ],
   "source": [
    "sns.lineplot(y=long_runtime[\"Language\"], x=long_runtime.loc[(long_runtime[\"Runtime\"] >= 93.58)][\"Runtime\"])\n",
    "plt.show()"
   ]
  },
  {
   "cell_type": "markdown",
   "id": "67b15af9",
   "metadata": {},
   "source": [
    "# 2019 Ocak ile 2020 Haziran tarihleri arasında 'Documentary' türünde çekilmiş filmlerin IMDB değerlerini bulup görselleştiriniz."
   ]
  },
  {
   "cell_type": "code",
   "execution_count": 11,
   "id": "8e06cfc4",
   "metadata": {},
   "outputs": [
    {
     "data": {
      "text/plain": [
       "0   2019-08-05\n",
       "1   2020-08-21\n",
       "2   2019-12-26\n",
       "3   2018-01-19\n",
       "4   2020-10-30\n",
       "Name: Date, dtype: datetime64[ns]"
      ]
     },
     "execution_count": 11,
     "metadata": {},
     "output_type": "execute_result"
    }
   ],
   "source": [
    "data[\"Date\"] = pd.to_datetime(data.Premiere)\n",
    "data[\"Date\"].head()"
   ]
  },
  {
   "cell_type": "code",
   "execution_count": 12,
   "id": "93df96bd",
   "metadata": {},
   "outputs": [
    {
     "data": {
      "text/html": [
       "<div>\n",
       "<style scoped>\n",
       "    .dataframe tbody tr th:only-of-type {\n",
       "        vertical-align: middle;\n",
       "    }\n",
       "\n",
       "    .dataframe tbody tr th {\n",
       "        vertical-align: top;\n",
       "    }\n",
       "\n",
       "    .dataframe thead th {\n",
       "        text-align: right;\n",
       "    }\n",
       "</style>\n",
       "<table border=\"1\" class=\"dataframe\">\n",
       "  <thead>\n",
       "    <tr style=\"text-align: right;\">\n",
       "      <th></th>\n",
       "      <th>Title</th>\n",
       "      <th>Genre</th>\n",
       "      <th>Runtime</th>\n",
       "      <th>IMDB Score</th>\n",
       "      <th>Language</th>\n",
       "      <th>Date</th>\n",
       "    </tr>\n",
       "  </thead>\n",
       "  <tbody>\n",
       "    <tr>\n",
       "      <th>0</th>\n",
       "      <td>Enter the Anime</td>\n",
       "      <td>Documentary</td>\n",
       "      <td>58</td>\n",
       "      <td>2.5</td>\n",
       "      <td>English/Japanese</td>\n",
       "      <td>2019-08-05</td>\n",
       "    </tr>\n",
       "    <tr>\n",
       "      <th>1</th>\n",
       "      <td>Dark Forces</td>\n",
       "      <td>Thriller</td>\n",
       "      <td>81</td>\n",
       "      <td>2.6</td>\n",
       "      <td>Spanish</td>\n",
       "      <td>2020-08-21</td>\n",
       "    </tr>\n",
       "    <tr>\n",
       "      <th>2</th>\n",
       "      <td>The App</td>\n",
       "      <td>Science fiction/Drama</td>\n",
       "      <td>79</td>\n",
       "      <td>2.6</td>\n",
       "      <td>Italian</td>\n",
       "      <td>2019-12-26</td>\n",
       "    </tr>\n",
       "    <tr>\n",
       "      <th>3</th>\n",
       "      <td>The Open House</td>\n",
       "      <td>Horror thriller</td>\n",
       "      <td>94</td>\n",
       "      <td>3.2</td>\n",
       "      <td>English</td>\n",
       "      <td>2018-01-19</td>\n",
       "    </tr>\n",
       "    <tr>\n",
       "      <th>4</th>\n",
       "      <td>Kaali Khuhi</td>\n",
       "      <td>Mystery</td>\n",
       "      <td>90</td>\n",
       "      <td>3.4</td>\n",
       "      <td>Hindi</td>\n",
       "      <td>2020-10-30</td>\n",
       "    </tr>\n",
       "  </tbody>\n",
       "</table>\n",
       "</div>"
      ],
      "text/plain": [
       "             Title                  Genre  Runtime  IMDB Score  \\\n",
       "0  Enter the Anime            Documentary       58         2.5   \n",
       "1      Dark Forces               Thriller       81         2.6   \n",
       "2          The App  Science fiction/Drama       79         2.6   \n",
       "3   The Open House        Horror thriller       94         3.2   \n",
       "4      Kaali Khuhi                Mystery       90         3.4   \n",
       "\n",
       "           Language       Date  \n",
       "0  English/Japanese 2019-08-05  \n",
       "1           Spanish 2020-08-21  \n",
       "2           Italian 2019-12-26  \n",
       "3           English 2018-01-19  \n",
       "4             Hindi 2020-10-30  "
      ]
     },
     "execution_count": 12,
     "metadata": {},
     "output_type": "execute_result"
    }
   ],
   "source": [
    "data = data.drop('Premiere', axis=1)\n",
    "data.head()"
   ]
  },
  {
   "cell_type": "code",
   "execution_count": 13,
   "id": "ece87cbc",
   "metadata": {},
   "outputs": [
    {
     "data": {
      "text/html": [
       "<div>\n",
       "<style scoped>\n",
       "    .dataframe tbody tr th:only-of-type {\n",
       "        vertical-align: middle;\n",
       "    }\n",
       "\n",
       "    .dataframe tbody tr th {\n",
       "        vertical-align: top;\n",
       "    }\n",
       "\n",
       "    .dataframe thead th {\n",
       "        text-align: right;\n",
       "    }\n",
       "</style>\n",
       "<table border=\"1\" class=\"dataframe\">\n",
       "  <thead>\n",
       "    <tr style=\"text-align: right;\">\n",
       "      <th></th>\n",
       "      <th>Title</th>\n",
       "      <th>Genre</th>\n",
       "      <th>Runtime</th>\n",
       "      <th>IMDB Score</th>\n",
       "      <th>Language</th>\n",
       "      <th>Date</th>\n",
       "    </tr>\n",
       "  </thead>\n",
       "  <tbody>\n",
       "    <tr>\n",
       "      <th>511</th>\n",
       "      <td>ReMastered: The Two Killings of Sam Cooke</td>\n",
       "      <td>Documentary</td>\n",
       "      <td>64</td>\n",
       "      <td>7.3</td>\n",
       "      <td>English</td>\n",
       "      <td>2019-02-08</td>\n",
       "    </tr>\n",
       "    <tr>\n",
       "      <th>524</th>\n",
       "      <td>Period. End of Sentence.</td>\n",
       "      <td>Documentary</td>\n",
       "      <td>26</td>\n",
       "      <td>7.4</td>\n",
       "      <td>English/Hindi</td>\n",
       "      <td>2019-02-12</td>\n",
       "    </tr>\n",
       "    <tr>\n",
       "      <th>324</th>\n",
       "      <td>Antoine Griezmann: The Making of a Legend</td>\n",
       "      <td>Documentary</td>\n",
       "      <td>60</td>\n",
       "      <td>6.5</td>\n",
       "      <td>French</td>\n",
       "      <td>2019-03-21</td>\n",
       "    </tr>\n",
       "    <tr>\n",
       "      <th>444</th>\n",
       "      <td>ReMastered: The Miami Showband Massacre</td>\n",
       "      <td>Documentary</td>\n",
       "      <td>70</td>\n",
       "      <td>7.0</td>\n",
       "      <td>English</td>\n",
       "      <td>2019-03-22</td>\n",
       "    </tr>\n",
       "    <tr>\n",
       "      <th>286</th>\n",
       "      <td>The Legend of Cocaine Island</td>\n",
       "      <td>Documentary</td>\n",
       "      <td>87</td>\n",
       "      <td>6.3</td>\n",
       "      <td>English</td>\n",
       "      <td>2019-03-29</td>\n",
       "    </tr>\n",
       "    <tr>\n",
       "      <th>536</th>\n",
       "      <td>Homecoming: A Film by Beyonce</td>\n",
       "      <td>Documentary</td>\n",
       "      <td>137</td>\n",
       "      <td>7.5</td>\n",
       "      <td>English</td>\n",
       "      <td>2019-04-17</td>\n",
       "    </tr>\n",
       "    <tr>\n",
       "      <th>554</th>\n",
       "      <td>Brene Brown: The Call to Courage</td>\n",
       "      <td>Documentary</td>\n",
       "      <td>76</td>\n",
       "      <td>7.7</td>\n",
       "      <td>English</td>\n",
       "      <td>2019-04-19</td>\n",
       "    </tr>\n",
       "    <tr>\n",
       "      <th>462</th>\n",
       "      <td>Grass Is Greener</td>\n",
       "      <td>Documentary</td>\n",
       "      <td>97</td>\n",
       "      <td>7.1</td>\n",
       "      <td>English</td>\n",
       "      <td>2019-04-20</td>\n",
       "    </tr>\n",
       "    <tr>\n",
       "      <th>442</th>\n",
       "      <td>ReMastered: Devil at the Crossroads</td>\n",
       "      <td>Documentary</td>\n",
       "      <td>48</td>\n",
       "      <td>7.0</td>\n",
       "      <td>English</td>\n",
       "      <td>2019-04-26</td>\n",
       "    </tr>\n",
       "    <tr>\n",
       "      <th>466</th>\n",
       "      <td>Knock Down the House</td>\n",
       "      <td>Documentary</td>\n",
       "      <td>87</td>\n",
       "      <td>7.1</td>\n",
       "      <td>English</td>\n",
       "      <td>2019-05-01</td>\n",
       "    </tr>\n",
       "    <tr>\n",
       "      <th>394</th>\n",
       "      <td>All in My Family</td>\n",
       "      <td>Documentary</td>\n",
       "      <td>39</td>\n",
       "      <td>6.8</td>\n",
       "      <td>English/Mandarin</td>\n",
       "      <td>2019-05-03</td>\n",
       "    </tr>\n",
       "    <tr>\n",
       "      <th>443</th>\n",
       "      <td>ReMastered: The Lion's Share</td>\n",
       "      <td>Documentary</td>\n",
       "      <td>84</td>\n",
       "      <td>7.0</td>\n",
       "      <td>English</td>\n",
       "      <td>2019-05-17</td>\n",
       "    </tr>\n",
       "    <tr>\n",
       "      <th>263</th>\n",
       "      <td>A Tale of Two Kitchens</td>\n",
       "      <td>Documentary</td>\n",
       "      <td>30</td>\n",
       "      <td>6.3</td>\n",
       "      <td>English/Spanish</td>\n",
       "      <td>2019-05-22</td>\n",
       "    </tr>\n",
       "    <tr>\n",
       "      <th>30</th>\n",
       "      <td>After Maria</td>\n",
       "      <td>Documentary</td>\n",
       "      <td>37</td>\n",
       "      <td>4.6</td>\n",
       "      <td>English/Spanish</td>\n",
       "      <td>2019-05-24</td>\n",
       "    </tr>\n",
       "    <tr>\n",
       "      <th>527</th>\n",
       "      <td>The Black Godfather</td>\n",
       "      <td>Documentary</td>\n",
       "      <td>118</td>\n",
       "      <td>7.4</td>\n",
       "      <td>English</td>\n",
       "      <td>2019-06-07</td>\n",
       "    </tr>\n",
       "    <tr>\n",
       "      <th>545</th>\n",
       "      <td>Rolling Thunder Revue: A bob Dylan Story by Ma...</td>\n",
       "      <td>Documentary</td>\n",
       "      <td>144</td>\n",
       "      <td>7.6</td>\n",
       "      <td>English</td>\n",
       "      <td>2019-06-12</td>\n",
       "    </tr>\n",
       "    <tr>\n",
       "      <th>334</th>\n",
       "      <td>Life Overtakes Me</td>\n",
       "      <td>Documentary</td>\n",
       "      <td>40</td>\n",
       "      <td>6.5</td>\n",
       "      <td>English/Swedish</td>\n",
       "      <td>2019-06-14</td>\n",
       "    </tr>\n",
       "    <tr>\n",
       "      <th>494</th>\n",
       "      <td>The Edge of Democracy</td>\n",
       "      <td>Documentary</td>\n",
       "      <td>121</td>\n",
       "      <td>7.2</td>\n",
       "      <td>Portuguese</td>\n",
       "      <td>2019-06-19</td>\n",
       "    </tr>\n",
       "    <tr>\n",
       "      <th>384</th>\n",
       "      <td>Parchis: The Documentary</td>\n",
       "      <td>Documentary</td>\n",
       "      <td>106</td>\n",
       "      <td>6.7</td>\n",
       "      <td>Spanish</td>\n",
       "      <td>2019-07-10</td>\n",
       "    </tr>\n",
       "    <tr>\n",
       "      <th>476</th>\n",
       "      <td>The Great Hack</td>\n",
       "      <td>Documentary</td>\n",
       "      <td>114</td>\n",
       "      <td>7.1</td>\n",
       "      <td>English</td>\n",
       "      <td>2019-07-24</td>\n",
       "    </tr>\n",
       "    <tr>\n",
       "      <th>0</th>\n",
       "      <td>Enter the Anime</td>\n",
       "      <td>Documentary</td>\n",
       "      <td>58</td>\n",
       "      <td>2.5</td>\n",
       "      <td>English/Japanese</td>\n",
       "      <td>2019-08-05</td>\n",
       "    </tr>\n",
       "    <tr>\n",
       "      <th>520</th>\n",
       "      <td>American Factory</td>\n",
       "      <td>Documentary</td>\n",
       "      <td>110</td>\n",
       "      <td>7.4</td>\n",
       "      <td>English</td>\n",
       "      <td>2019-08-21</td>\n",
       "    </tr>\n",
       "    <tr>\n",
       "      <th>290</th>\n",
       "      <td>Travis Scott: Look Mom I Can Fly</td>\n",
       "      <td>Documentary</td>\n",
       "      <td>85</td>\n",
       "      <td>6.3</td>\n",
       "      <td>English</td>\n",
       "      <td>2019-08-28</td>\n",
       "    </tr>\n",
       "    <tr>\n",
       "      <th>460</th>\n",
       "      <td>Evelyn</td>\n",
       "      <td>Documentary</td>\n",
       "      <td>96</td>\n",
       "      <td>7.1</td>\n",
       "      <td>English</td>\n",
       "      <td>2019-09-10</td>\n",
       "    </tr>\n",
       "    <tr>\n",
       "      <th>20</th>\n",
       "      <td>Hello Privilege. It's Me, Chelsea</td>\n",
       "      <td>Documentary</td>\n",
       "      <td>64</td>\n",
       "      <td>4.4</td>\n",
       "      <td>English</td>\n",
       "      <td>2019-09-13</td>\n",
       "    </tr>\n",
       "    <tr>\n",
       "      <th>437</th>\n",
       "      <td>Los Tigres del Norte at Folsom Prison</td>\n",
       "      <td>Documentary</td>\n",
       "      <td>64</td>\n",
       "      <td>7.0</td>\n",
       "      <td>Spanish</td>\n",
       "      <td>2019-09-15</td>\n",
       "    </tr>\n",
       "    <tr>\n",
       "      <th>295</th>\n",
       "      <td>Birders</td>\n",
       "      <td>Documentary</td>\n",
       "      <td>37</td>\n",
       "      <td>6.4</td>\n",
       "      <td>English/Spanish</td>\n",
       "      <td>2019-09-25</td>\n",
       "    </tr>\n",
       "    <tr>\n",
       "      <th>111</th>\n",
       "      <td>Ghosts of Sugar Land</td>\n",
       "      <td>Documentary</td>\n",
       "      <td>21</td>\n",
       "      <td>5.5</td>\n",
       "      <td>English</td>\n",
       "      <td>2019-10-16</td>\n",
       "    </tr>\n",
       "    <tr>\n",
       "      <th>546</th>\n",
       "      <td>Tell Me Who I Am</td>\n",
       "      <td>Documentary</td>\n",
       "      <td>85</td>\n",
       "      <td>7.6</td>\n",
       "      <td>English</td>\n",
       "      <td>2019-10-18</td>\n",
       "    </tr>\n",
       "    <tr>\n",
       "      <th>577</th>\n",
       "      <td>Dancing with the Birds</td>\n",
       "      <td>Documentary</td>\n",
       "      <td>51</td>\n",
       "      <td>8.3</td>\n",
       "      <td>English</td>\n",
       "      <td>2019-10-23</td>\n",
       "    </tr>\n",
       "    <tr>\n",
       "      <th>353</th>\n",
       "      <td>It Takes a Lunatic</td>\n",
       "      <td>Documentary</td>\n",
       "      <td>126</td>\n",
       "      <td>6.6</td>\n",
       "      <td>English</td>\n",
       "      <td>2019-10-25</td>\n",
       "    </tr>\n",
       "    <tr>\n",
       "      <th>320</th>\n",
       "      <td>A 3 Minute Hug</td>\n",
       "      <td>Documentary</td>\n",
       "      <td>28</td>\n",
       "      <td>6.5</td>\n",
       "      <td>English/Spanish</td>\n",
       "      <td>2019-10-28</td>\n",
       "    </tr>\n",
       "    <tr>\n",
       "      <th>378</th>\n",
       "      <td>Little Miss Sumo</td>\n",
       "      <td>Documentary</td>\n",
       "      <td>19</td>\n",
       "      <td>6.7</td>\n",
       "      <td>Japanese</td>\n",
       "      <td>2019-10-28</td>\n",
       "    </tr>\n",
       "    <tr>\n",
       "      <th>521</th>\n",
       "      <td>Fire in Paradise</td>\n",
       "      <td>Documentary</td>\n",
       "      <td>39</td>\n",
       "      <td>7.4</td>\n",
       "      <td>English</td>\n",
       "      <td>2019-11-01</td>\n",
       "    </tr>\n",
       "    <tr>\n",
       "      <th>367</th>\n",
       "      <td>Bikram: Yogi, Guru, Predator</td>\n",
       "      <td>Documentary</td>\n",
       "      <td>86</td>\n",
       "      <td>6.7</td>\n",
       "      <td>English</td>\n",
       "      <td>2019-11-20</td>\n",
       "    </tr>\n",
       "    <tr>\n",
       "      <th>436</th>\n",
       "      <td>Lorena, Light-Footed Woman</td>\n",
       "      <td>Documentary</td>\n",
       "      <td>28</td>\n",
       "      <td>7.0</td>\n",
       "      <td>Spanish</td>\n",
       "      <td>2019-11-20</td>\n",
       "    </tr>\n",
       "    <tr>\n",
       "      <th>15</th>\n",
       "      <td>After the Raid</td>\n",
       "      <td>Documentary</td>\n",
       "      <td>25</td>\n",
       "      <td>4.3</td>\n",
       "      <td>Spanish</td>\n",
       "      <td>2019-12-19</td>\n",
       "    </tr>\n",
       "    <tr>\n",
       "      <th>458</th>\n",
       "      <td>El Pepe: A Supreme Life</td>\n",
       "      <td>Documentary</td>\n",
       "      <td>73</td>\n",
       "      <td>7.1</td>\n",
       "      <td>Spanish</td>\n",
       "      <td>2019-12-27</td>\n",
       "    </tr>\n",
       "    <tr>\n",
       "      <th>523</th>\n",
       "      <td>Miss Americana</td>\n",
       "      <td>Documentary</td>\n",
       "      <td>85</td>\n",
       "      <td>7.4</td>\n",
       "      <td>English</td>\n",
       "      <td>2020-01-31</td>\n",
       "    </tr>\n",
       "    <tr>\n",
       "      <th>392</th>\n",
       "      <td>A Life of Speed: The Juan Manuel Fangio Story</td>\n",
       "      <td>Documentary</td>\n",
       "      <td>92</td>\n",
       "      <td>6.8</td>\n",
       "      <td>Spanish</td>\n",
       "      <td>2020-03-20</td>\n",
       "    </tr>\n",
       "    <tr>\n",
       "      <th>555</th>\n",
       "      <td>Crip Camp: A Disability Revolution</td>\n",
       "      <td>Documentary</td>\n",
       "      <td>108</td>\n",
       "      <td>7.7</td>\n",
       "      <td>English</td>\n",
       "      <td>2020-03-25</td>\n",
       "    </tr>\n",
       "    <tr>\n",
       "      <th>484</th>\n",
       "      <td>LA Originals</td>\n",
       "      <td>Documentary</td>\n",
       "      <td>92</td>\n",
       "      <td>7.2</td>\n",
       "      <td>English</td>\n",
       "      <td>2020-04-10</td>\n",
       "    </tr>\n",
       "    <tr>\n",
       "      <th>455</th>\n",
       "      <td>Circus of Books</td>\n",
       "      <td>Documentary</td>\n",
       "      <td>92</td>\n",
       "      <td>7.1</td>\n",
       "      <td>English</td>\n",
       "      <td>2020-04-22</td>\n",
       "    </tr>\n",
       "    <tr>\n",
       "      <th>303</th>\n",
       "      <td>Murder to Mercy: The Cyntoia Brown Story</td>\n",
       "      <td>Documentary</td>\n",
       "      <td>97</td>\n",
       "      <td>6.4</td>\n",
       "      <td>English</td>\n",
       "      <td>2020-04-29</td>\n",
       "    </tr>\n",
       "    <tr>\n",
       "      <th>563</th>\n",
       "      <td>A Secret Love</td>\n",
       "      <td>Documentary</td>\n",
       "      <td>82</td>\n",
       "      <td>7.9</td>\n",
       "      <td>English</td>\n",
       "      <td>2020-04-29</td>\n",
       "    </tr>\n",
       "    <tr>\n",
       "      <th>396</th>\n",
       "      <td>Becoming</td>\n",
       "      <td>Documentary</td>\n",
       "      <td>89</td>\n",
       "      <td>6.8</td>\n",
       "      <td>English</td>\n",
       "      <td>2020-05-06</td>\n",
       "    </tr>\n",
       "    <tr>\n",
       "      <th>401</th>\n",
       "      <td>Have a Good Trip: Adventures in Psychedelics</td>\n",
       "      <td>Documentary</td>\n",
       "      <td>85</td>\n",
       "      <td>6.8</td>\n",
       "      <td>English</td>\n",
       "      <td>2020-05-11</td>\n",
       "    </tr>\n",
       "  </tbody>\n",
       "</table>\n",
       "</div>"
      ],
      "text/plain": [
       "                                                 Title        Genre  Runtime  \\\n",
       "511          ReMastered: The Two Killings of Sam Cooke  Documentary       64   \n",
       "524                           Period. End of Sentence.  Documentary       26   \n",
       "324          Antoine Griezmann: The Making of a Legend  Documentary       60   \n",
       "444            ReMastered: The Miami Showband Massacre  Documentary       70   \n",
       "286                       The Legend of Cocaine Island  Documentary       87   \n",
       "536                     Homecoming: A Film by Beyonce   Documentary      137   \n",
       "554                   Brene Brown: The Call to Courage  Documentary       76   \n",
       "462                                   Grass Is Greener  Documentary       97   \n",
       "442                ReMastered: Devil at the Crossroads  Documentary       48   \n",
       "466                               Knock Down the House  Documentary       87   \n",
       "394                                   All in My Family  Documentary       39   \n",
       "443                       ReMastered: The Lion's Share  Documentary       84   \n",
       "263                             A Tale of Two Kitchens  Documentary       30   \n",
       "30                                         After Maria  Documentary       37   \n",
       "527                                The Black Godfather  Documentary      118   \n",
       "545  Rolling Thunder Revue: A bob Dylan Story by Ma...  Documentary      144   \n",
       "334                                  Life Overtakes Me  Documentary       40   \n",
       "494                              The Edge of Democracy  Documentary      121   \n",
       "384                           Parchis: The Documentary  Documentary      106   \n",
       "476                                     The Great Hack  Documentary      114   \n",
       "0                                      Enter the Anime  Documentary       58   \n",
       "520                                   American Factory  Documentary      110   \n",
       "290                   Travis Scott: Look Mom I Can Fly  Documentary       85   \n",
       "460                                             Evelyn  Documentary       96   \n",
       "20                   Hello Privilege. It's Me, Chelsea  Documentary       64   \n",
       "437              Los Tigres del Norte at Folsom Prison  Documentary       64   \n",
       "295                                            Birders  Documentary       37   \n",
       "111                               Ghosts of Sugar Land  Documentary       21   \n",
       "546                                   Tell Me Who I Am  Documentary       85   \n",
       "577                             Dancing with the Birds  Documentary       51   \n",
       "353                                 It Takes a Lunatic  Documentary      126   \n",
       "320                                     A 3 Minute Hug  Documentary       28   \n",
       "378                                   Little Miss Sumo  Documentary       19   \n",
       "521                                   Fire in Paradise  Documentary       39   \n",
       "367                       Bikram: Yogi, Guru, Predator  Documentary       86   \n",
       "436                         Lorena, Light-Footed Woman  Documentary       28   \n",
       "15                                      After the Raid  Documentary       25   \n",
       "458                            El Pepe: A Supreme Life  Documentary       73   \n",
       "523                                     Miss Americana  Documentary       85   \n",
       "392      A Life of Speed: The Juan Manuel Fangio Story  Documentary       92   \n",
       "555                 Crip Camp: A Disability Revolution  Documentary      108   \n",
       "484                                       LA Originals  Documentary       92   \n",
       "455                                    Circus of Books  Documentary       92   \n",
       "303           Murder to Mercy: The Cyntoia Brown Story  Documentary       97   \n",
       "563                                      A Secret Love  Documentary       82   \n",
       "396                                           Becoming  Documentary       89   \n",
       "401       Have a Good Trip: Adventures in Psychedelics  Documentary       85   \n",
       "\n",
       "     IMDB Score          Language       Date  \n",
       "511         7.3           English 2019-02-08  \n",
       "524         7.4     English/Hindi 2019-02-12  \n",
       "324         6.5            French 2019-03-21  \n",
       "444         7.0           English 2019-03-22  \n",
       "286         6.3           English 2019-03-29  \n",
       "536         7.5           English 2019-04-17  \n",
       "554         7.7           English 2019-04-19  \n",
       "462         7.1           English 2019-04-20  \n",
       "442         7.0           English 2019-04-26  \n",
       "466         7.1           English 2019-05-01  \n",
       "394         6.8  English/Mandarin 2019-05-03  \n",
       "443         7.0           English 2019-05-17  \n",
       "263         6.3   English/Spanish 2019-05-22  \n",
       "30          4.6   English/Spanish 2019-05-24  \n",
       "527         7.4           English 2019-06-07  \n",
       "545         7.6           English 2019-06-12  \n",
       "334         6.5   English/Swedish 2019-06-14  \n",
       "494         7.2        Portuguese 2019-06-19  \n",
       "384         6.7           Spanish 2019-07-10  \n",
       "476         7.1           English 2019-07-24  \n",
       "0           2.5  English/Japanese 2019-08-05  \n",
       "520         7.4           English 2019-08-21  \n",
       "290         6.3           English 2019-08-28  \n",
       "460         7.1           English 2019-09-10  \n",
       "20          4.4           English 2019-09-13  \n",
       "437         7.0           Spanish 2019-09-15  \n",
       "295         6.4   English/Spanish 2019-09-25  \n",
       "111         5.5           English 2019-10-16  \n",
       "546         7.6           English 2019-10-18  \n",
       "577         8.3           English 2019-10-23  \n",
       "353         6.6           English 2019-10-25  \n",
       "320         6.5   English/Spanish 2019-10-28  \n",
       "378         6.7          Japanese 2019-10-28  \n",
       "521         7.4           English 2019-11-01  \n",
       "367         6.7           English 2019-11-20  \n",
       "436         7.0           Spanish 2019-11-20  \n",
       "15          4.3           Spanish 2019-12-19  \n",
       "458         7.1           Spanish 2019-12-27  \n",
       "523         7.4           English 2020-01-31  \n",
       "392         6.8           Spanish 2020-03-20  \n",
       "555         7.7           English 2020-03-25  \n",
       "484         7.2           English 2020-04-10  \n",
       "455         7.1           English 2020-04-22  \n",
       "303         6.4           English 2020-04-29  \n",
       "563         7.9           English 2020-04-29  \n",
       "396         6.8           English 2020-05-06  \n",
       "401         6.8           English 2020-05-11  "
      ]
     },
     "execution_count": 13,
     "metadata": {},
     "output_type": "execute_result"
    }
   ],
   "source": [
    "documentary = data.loc[(data[\"Genre\"] == \"Documentary\") & (data[\"Date\"] > \"2019-01-31\") & (data[\"Date\"] < \"2020-06-01\")]\n",
    "documentary.sort_values(by=\"Date\", ascending=True)"
   ]
  },
  {
   "cell_type": "code",
   "execution_count": 14,
   "id": "acf0d6f4",
   "metadata": {},
   "outputs": [
    {
     "data": {
      "image/png": "[encoded data removed]",
      "text/plain": [
       "<Figure size 864x432 with 1 Axes>"
      ]
     },
     "metadata": {
      "needs_background": "light"
     },
     "output_type": "display_data"
    }
   ],
   "source": [
    "plt.figure(figsize=(12,6))\n",
    "plt.xticks(rotation=90)\n",
    "sns.barplot(x=documentary[\"Title\"], y=documentary[\"IMDB Score\"], palette=\"crest\")\n",
    "plt.show()"
   ]
  },
  {
   "cell_type": "markdown",
   "id": "0fc49a92",
   "metadata": {},
   "source": [
    "# İngilizce çekilen filmler içerisinde hangi tür en yüksek IMDB puanına sahiptir?"
   ]
  },
  {
   "cell_type": "code",
   "execution_count": 15,
   "id": "80024ad8",
   "metadata": {},
   "outputs": [
    {
     "data": {
      "text/html": [
       "<div>\n",
       "<style scoped>\n",
       "    .dataframe tbody tr th:only-of-type {\n",
       "        vertical-align: middle;\n",
       "    }\n",
       "\n",
       "    .dataframe tbody tr th {\n",
       "        vertical-align: top;\n",
       "    }\n",
       "\n",
       "    .dataframe thead th {\n",
       "        text-align: right;\n",
       "    }\n",
       "</style>\n",
       "<table border=\"1\" class=\"dataframe\">\n",
       "  <thead>\n",
       "    <tr style=\"text-align: right;\">\n",
       "      <th></th>\n",
       "      <th>Title</th>\n",
       "      <th>IMDB Score</th>\n",
       "      <th>Genre</th>\n",
       "      <th>Language</th>\n",
       "    </tr>\n",
       "  </thead>\n",
       "  <tbody>\n",
       "    <tr>\n",
       "      <th>583</th>\n",
       "      <td>David Attenborough: A Life on Our Planet</td>\n",
       "      <td>9.0</td>\n",
       "      <td>Documentary</td>\n",
       "      <td>English</td>\n",
       "    </tr>\n",
       "  </tbody>\n",
       "</table>\n",
       "</div>"
      ],
      "text/plain": [
       "                                        Title  IMDB Score        Genre  \\\n",
       "583  David Attenborough: A Life on Our Planet         9.0  Documentary   \n",
       "\n",
       "    Language  \n",
       "583  English  "
      ]
     },
     "execution_count": 15,
     "metadata": {},
     "output_type": "execute_result"
    }
   ],
   "source": [
    "eng_movie = data[[\"Title\",\"IMDB Score\", \"Genre\", \"Language\"]]\n",
    "eng_movie.sort_values([\"IMDB Score\"], ascending=False)[:1]"
   ]
  },
  {
   "cell_type": "markdown",
   "id": "bf24bcd8",
   "metadata": {},
   "source": [
    "# 'Hindi' Dilinde çekilmiş olan filmlerin ortalama 'runtime' suresi nedir?"
   ]
  },
  {
   "cell_type": "code",
   "execution_count": 16,
   "id": "bf95e5d4",
   "metadata": {},
   "outputs": [
    {
     "data": {
      "text/plain": [
       "115.79"
      ]
     },
     "execution_count": 16,
     "metadata": {},
     "output_type": "execute_result"
    }
   ],
   "source": [
    "hindi_lang = data[data[\"Language\"]==\"Hindi\"]\n",
    "round(hindi_lang['Runtime'].mean(),2)"
   ]
  },
  {
   "cell_type": "markdown",
   "id": "362ec541",
   "metadata": {},
   "source": [
    "# 'Genre' Sütunu kaç kategoriye sahiptir ve bu kategoriler nelerdir? Görselleştirerek ifade ediniz."
   ]
  },
  {
   "cell_type": "code",
   "execution_count": 17,
   "id": "bdc03971",
   "metadata": {},
   "outputs": [
    {
     "data": {
      "text/plain": [
       "115"
      ]
     },
     "execution_count": 17,
     "metadata": {},
     "output_type": "execute_result"
    }
   ],
   "source": [
    "data.Genre.nunique()"
   ]
  },
  {
   "cell_type": "code",
   "execution_count": 18,
   "id": "a909ee92",
   "metadata": {},
   "outputs": [
    {
     "data": {
      "text/plain": [
       "array(['Documentary', 'Thriller', 'Science fiction/Drama',\n",
       "       'Horror thriller', 'Mystery', 'Action', 'Comedy',\n",
       "       'Heist film/Thriller', 'Musical/Western/Fantasy', 'Drama',\n",
       "       'Romantic comedy', 'Action comedy', 'Horror anthology',\n",
       "       'Political thriller', 'Superhero-Comedy', 'Horror',\n",
       "       'Romance drama', 'Anime / Short', 'Superhero', 'Heist', 'Western',\n",
       "       'Animation/Superhero', 'Family film', 'Action-thriller',\n",
       "       'Teen comedy-drama', 'Romantic drama', 'Animation',\n",
       "       'Aftershow / Interview', 'Christmas musical',\n",
       "       'Science fiction adventure', 'Science fiction', 'Variety show',\n",
       "       'Comedy-drama', 'Comedy/Fantasy/Family', 'Supernatural drama',\n",
       "       'Action/Comedy', 'Action/Science fiction',\n",
       "       'Romantic teenage drama', 'Comedy / Musical', 'Musical',\n",
       "       'Science fiction/Mystery', 'Crime drama',\n",
       "       'Psychological thriller drama', 'Adventure/Comedy', 'Black comedy',\n",
       "       'Romance', 'Horror comedy', 'Christian musical',\n",
       "       'Romantic teen drama', 'Family', 'Dark comedy', 'Comedy horror',\n",
       "       'Psychological thriller', 'Biopic', 'Science fiction/Thriller',\n",
       "       'Mockumentary', 'Satire', 'One-man show', 'Romantic comedy-drama',\n",
       "       'Comedy/Horror', 'Fantasy', 'Sports-drama', 'Zombie/Heist',\n",
       "       'Psychological horror', 'Sports film', 'Comedy mystery',\n",
       "       'Romantic thriller', 'Christmas comedy', 'War-Comedy',\n",
       "       'Romantic comedy/Holiday', 'Adventure-romance', 'Adventure',\n",
       "       'Horror-thriller', 'Dance comedy', 'Stop Motion',\n",
       "       'Horror/Crime drama', 'Urban fantasy', 'Drama/Horror',\n",
       "       'Family/Comedy-drama', 'War', 'Crime thriller',\n",
       "       'Science fiction/Action', 'Teen comedy horror', 'Concert Film',\n",
       "       'Musical comedy', 'Animation/Musical/Adventure',\n",
       "       'Animation / Musicial', 'Animation/Comedy/Adventure',\n",
       "       'Action thriller', 'Anime/Science fiction', 'Animation / Short',\n",
       "       'War drama', 'Family/Christmas musical',\n",
       "       'Science fiction thriller', 'Drama / Short',\n",
       "       'Hidden-camera prank comedy', 'Spy thriller', 'Anime/Fantasy',\n",
       "       'Animated musical comedy', 'Variety Show', 'Superhero/Action',\n",
       "       'Biographical/Comedy', 'Historical-epic', 'Animation / Comedy',\n",
       "       'Christmas/Fantasy/Adventure/Comedy', 'Mentalism special',\n",
       "       'Drama-Comedy', 'Coming-of-age comedy-drama', 'Historical drama',\n",
       "       'Making-of', 'Action-adventure', 'Animation / Science Fiction',\n",
       "       'Anthology/Dark comedy', 'Musical / Short',\n",
       "       'Animation/Christmas/Comedy/Adventure'], dtype=object)"
      ]
     },
     "execution_count": 18,
     "metadata": {},
     "output_type": "execute_result"
    }
   ],
   "source": [
    "data.Genre.unique()"
   ]
  },
  {
   "cell_type": "code",
   "execution_count": 19,
   "id": "6d34fe1a",
   "metadata": {},
   "outputs": [
    {
     "data": {
      "image/png": "[encoded data removed]",
      "text/plain": [
       "<Figure size 1440x576 with 1 Axes>"
      ]
     },
     "metadata": {
      "needs_background": "light"
     },
     "output_type": "display_data"
    }
   ],
   "source": [
    "genre_top40 = data[\"Genre\"].value_counts().nlargest(40)\n",
    "genre_top40.plot(kind='bar', figsize=(20,8), color='lightcoral')\n",
    "plt.show()"
   ]
  },
  {
   "cell_type": "markdown",
   "id": "14b3092c",
   "metadata": {},
   "source": [
    "# Veri setinde bulunan filmlerde en çok kullanılan 3 dili bulunuz."
   ]
  },
  {
   "cell_type": "code",
   "execution_count": 20,
   "id": "ba23029b",
   "metadata": {},
   "outputs": [
    {
     "name": "stdout",
     "output_type": "stream",
     "text": [
      "English    401\n",
      "Hindi       33\n",
      "Spanish     31\n",
      "Name: Language, dtype: int64\n"
     ]
    }
   ],
   "source": [
    "top_3_language = data[\"Language\"].value_counts().nlargest(3)\n",
    "print(top_3_language)"
   ]
  },
  {
   "cell_type": "code",
   "execution_count": 21,
   "id": "9353a55c",
   "metadata": {},
   "outputs": [
    {
     "data": {
      "image/png": "[encoded data removed]",
      "text/plain": [
       "<Figure size 432x288 with 1 Axes>"
      ]
     },
     "metadata": {
      "needs_background": "light"
     },
     "output_type": "display_data"
    }
   ],
   "source": [
    "sns.barplot(x=top_3_language.index, y=top_3_language.values, palette=\"Paired\")\n",
    "plt.show()"
   ]
  },
  {
   "cell_type": "markdown",
   "id": "ca0d202a",
   "metadata": {},
   "source": [
    "# IMDB puanı en yüksek olan ilk 10 film hangileridir?"
   ]
  },
  {
   "cell_type": "code",
   "execution_count": 22,
   "id": "a5953174",
   "metadata": {},
   "outputs": [
    {
     "data": {
      "text/html": [
       "<div>\n",
       "<style scoped>\n",
       "    .dataframe tbody tr th:only-of-type {\n",
       "        vertical-align: middle;\n",
       "    }\n",
       "\n",
       "    .dataframe tbody tr th {\n",
       "        vertical-align: top;\n",
       "    }\n",
       "\n",
       "    .dataframe thead th {\n",
       "        text-align: right;\n",
       "    }\n",
       "</style>\n",
       "<table border=\"1\" class=\"dataframe\">\n",
       "  <thead>\n",
       "    <tr style=\"text-align: right;\">\n",
       "      <th></th>\n",
       "      <th>IMDB Score</th>\n",
       "      <th>Title</th>\n",
       "      <th>Genre</th>\n",
       "      <th>Language</th>\n",
       "    </tr>\n",
       "  </thead>\n",
       "  <tbody>\n",
       "    <tr>\n",
       "      <th>583</th>\n",
       "      <td>9.0</td>\n",
       "      <td>David Attenborough: A Life on Our Planet</td>\n",
       "      <td>Documentary</td>\n",
       "      <td>English</td>\n",
       "    </tr>\n",
       "    <tr>\n",
       "      <th>582</th>\n",
       "      <td>8.6</td>\n",
       "      <td>Emicida: AmarElo - It's All For Yesterday</td>\n",
       "      <td>Documentary</td>\n",
       "      <td>Portuguese</td>\n",
       "    </tr>\n",
       "    <tr>\n",
       "      <th>581</th>\n",
       "      <td>8.5</td>\n",
       "      <td>Springsteen on Broadway</td>\n",
       "      <td>One-man show</td>\n",
       "      <td>English</td>\n",
       "    </tr>\n",
       "    <tr>\n",
       "      <th>580</th>\n",
       "      <td>8.4</td>\n",
       "      <td>Winter on Fire: Ukraine's Fight for Freedom</td>\n",
       "      <td>Documentary</td>\n",
       "      <td>English/Ukranian/Russian</td>\n",
       "    </tr>\n",
       "    <tr>\n",
       "      <th>579</th>\n",
       "      <td>8.4</td>\n",
       "      <td>Taylor Swift: Reputation Stadium Tour</td>\n",
       "      <td>Concert Film</td>\n",
       "      <td>English</td>\n",
       "    </tr>\n",
       "    <tr>\n",
       "      <th>578</th>\n",
       "      <td>8.4</td>\n",
       "      <td>Ben Platt: Live from Radio City Music Hall</td>\n",
       "      <td>Concert Film</td>\n",
       "      <td>English</td>\n",
       "    </tr>\n",
       "    <tr>\n",
       "      <th>577</th>\n",
       "      <td>8.3</td>\n",
       "      <td>Dancing with the Birds</td>\n",
       "      <td>Documentary</td>\n",
       "      <td>English</td>\n",
       "    </tr>\n",
       "    <tr>\n",
       "      <th>576</th>\n",
       "      <td>8.3</td>\n",
       "      <td>Cuba and the Cameraman</td>\n",
       "      <td>Documentary</td>\n",
       "      <td>English</td>\n",
       "    </tr>\n",
       "    <tr>\n",
       "      <th>573</th>\n",
       "      <td>8.2</td>\n",
       "      <td>Klaus</td>\n",
       "      <td>Animation/Christmas/Comedy/Adventure</td>\n",
       "      <td>English</td>\n",
       "    </tr>\n",
       "    <tr>\n",
       "      <th>571</th>\n",
       "      <td>8.2</td>\n",
       "      <td>13th</td>\n",
       "      <td>Documentary</td>\n",
       "      <td>English</td>\n",
       "    </tr>\n",
       "  </tbody>\n",
       "</table>\n",
       "</div>"
      ],
      "text/plain": [
       "     IMDB Score                                        Title  \\\n",
       "583         9.0     David Attenborough: A Life on Our Planet   \n",
       "582         8.6    Emicida: AmarElo - It's All For Yesterday   \n",
       "581         8.5                      Springsteen on Broadway   \n",
       "580         8.4  Winter on Fire: Ukraine's Fight for Freedom   \n",
       "579         8.4        Taylor Swift: Reputation Stadium Tour   \n",
       "578         8.4   Ben Platt: Live from Radio City Music Hall   \n",
       "577         8.3                       Dancing with the Birds   \n",
       "576         8.3                      Cuba and the Cameraman    \n",
       "573         8.2                                        Klaus   \n",
       "571         8.2                                         13th   \n",
       "\n",
       "                                    Genre                  Language  \n",
       "583                           Documentary                   English  \n",
       "582                           Documentary                Portuguese  \n",
       "581                          One-man show                   English  \n",
       "580                           Documentary  English/Ukranian/Russian  \n",
       "579                          Concert Film                   English  \n",
       "578                          Concert Film                   English  \n",
       "577                           Documentary                   English  \n",
       "576                           Documentary                   English  \n",
       "573  Animation/Christmas/Comedy/Adventure                   English  \n",
       "571                           Documentary                   English  "
      ]
     },
     "execution_count": 22,
     "metadata": {},
     "output_type": "execute_result"
    }
   ],
   "source": [
    "top_10_movies = data[[\"IMDB Score\", \"Title\", \"Genre\", \"Language\"]]\n",
    "top_10_movies.sort_values([\"IMDB Score\"], ascending=False)[:10]"
   ]
  },
  {
   "cell_type": "markdown",
   "id": "010564cd",
   "metadata": {},
   "source": [
    "# IMDB puanı ile 'Runtime' arasında nasıl bir korelasyon vardır? İnceleyip görselleştiriniz."
   ]
  },
  {
   "cell_type": "code",
   "execution_count": 23,
   "id": "c1e10dc7",
   "metadata": {},
   "outputs": [
    {
     "data": {
      "image/png": "[encoded data removed]",
      "text/plain": [
       "<Figure size 432x288 with 2 Axes>"
      ]
     },
     "metadata": {
      "needs_background": "light"
     },
     "output_type": "display_data"
    }
   ],
   "source": [
    "sns.heatmap(data.corr(), annot=True)\n",
    "plt.show()"
   ]
  },
  {
   "cell_type": "markdown",
   "id": "c6d27c72",
   "metadata": {},
   "source": [
    "# IMDB Puanı en yüksek olan ilk 10 'Genre' hangileridir? Görselleştiriniz."
   ]
  },
  {
   "cell_type": "code",
   "execution_count": 24,
   "id": "1d2c6c2b",
   "metadata": {},
   "outputs": [
    {
     "name": "stdout",
     "output_type": "stream",
     "text": [
      "                                  Genre  IMDB Score\n",
      "0                           Documentary         9.0\n",
      "1                          One-man show         8.5\n",
      "2                          Concert Film         8.4\n",
      "3  Animation/Christmas/Comedy/Adventure         8.2\n",
      "4                                 Drama         7.9\n",
      "5                     Animation / Short         7.8\n",
      "6                           Crime drama         7.8\n",
      "7                       Musical / Short         7.7\n",
      "8                             Making-of         7.7\n",
      "9                             War drama         7.7\n"
     ]
    }
   ],
   "source": [
    "top_genres = data.groupby(\"Genre\").agg({\"IMDB Score\": \"max\"}).sort_values(by=\"IMDB Score\", ascending=False)[0:10].reset_index()\n",
    "print(top_genres)"
   ]
  },
  {
   "cell_type": "code",
   "execution_count": 25,
   "id": "b0a07b62",
   "metadata": {},
   "outputs": [
    {
     "data": {
      "image/png": "[encoded data removed]",
      "text/plain": [
       "<Figure size 432x288 with 1 Axes>"
      ]
     },
     "metadata": {
      "needs_background": "light"
     },
     "output_type": "display_data"
    }
   ],
   "source": [
    "sns.scatterplot(y=top_genres[\"IMDB Score\"], x=top_genres[\"Genre\"])\n",
    "sns.lineplot(y=top_genres[\"IMDB Score\"], x=top_genres[\"Genre\"])\n",
    "plt.xticks(rotation=90)\n",
    "plt.show()"
   ]
  },
  {
   "cell_type": "markdown",
   "id": "eb4f6548",
   "metadata": {},
   "source": [
    "# 'Runtime' değeri en yüksek olan ilk 10 film hangileridir? Görselleştiriniz."
   ]
  },
  {
   "cell_type": "code",
   "execution_count": 26,
   "id": "34175984",
   "metadata": {},
   "outputs": [
    {
     "name": "stdout",
     "output_type": "stream",
     "text": [
      "                               Title  Runtime\n",
      "561                     The Irishman      209\n",
      "328                      Da 5 Bloods      155\n",
      "581          Springsteen on Broadway      153\n",
      "247                         Citation      151\n",
      "284               The Forest of Love      151\n",
      "509                   Raat Akeli Hai      149\n",
      "7    The Last Days of American Crime      149\n",
      "543                             Ludo      149\n",
      "194                 Army of the Dead      148\n",
      "5                              Drive      147\n"
     ]
    }
   ],
   "source": [
    "top_10_runtime = data[[\"Title\", \"Runtime\"]]\n",
    "runtime = top_10_runtime.sort_values([\"Runtime\"], ascending=False)[:10]\n",
    "print(runtime)"
   ]
  },
  {
   "cell_type": "code",
   "execution_count": 27,
   "id": "dea252a8",
   "metadata": {},
   "outputs": [
    {
     "data": {
      "image/png": "[encoded data removed]",
      "text/plain": [
       "<Figure size 432x288 with 1 Axes>"
      ]
     },
     "metadata": {
      "needs_background": "light"
     },
     "output_type": "display_data"
    }
   ],
   "source": [
    "sns.pointplot(y=runtime[\"Runtime\"], x=runtime[\"Title\"], palette='dark:salmon_r')\n",
    "sns.lineplot(y=runtime[\"Runtime\"], x=runtime[\"Title\"], palette='dark:salmon_r')\n",
    "plt.xticks(rotation=90)\n",
    "plt.show()"
   ]
  },
  {
   "cell_type": "markdown",
   "id": "aa67d225",
   "metadata": {},
   "source": [
    "# Hangi yılda en fazla film yayımlanmıştır? Görselleştiriniz."
   ]
  },
  {
   "cell_type": "code",
   "execution_count": 28,
   "id": "cb16393f",
   "metadata": {},
   "outputs": [
    {
     "name": "stdout",
     "output_type": "stream",
     "text": [
      "2020    183\n",
      "2019    125\n",
      "2018     99\n",
      "2021     71\n",
      "2017     66\n",
      "2016     30\n",
      "2015      9\n",
      "2014      1\n",
      "Name: Year, dtype: int64\n"
     ]
    }
   ],
   "source": [
    "data[\"Year\"] = data[\"Date\"].dt.year\n",
    "year = data[\"Year\"].value_counts()\n",
    "print(year)"
   ]
  },
  {
   "cell_type": "code",
   "execution_count": 29,
   "id": "a515cb04",
   "metadata": {},
   "outputs": [
    {
     "data": {
      "image/png": "[encoded data removed]",
      "text/plain": [
       "<Figure size 432x288 with 1 Axes>"
      ]
     },
     "metadata": {
      "needs_background": "light"
     },
     "output_type": "display_data"
    }
   ],
   "source": [
    "sns.barplot(x=year.index, y=year.values, palette=\"flare\")\n",
    "plt.show()"
   ]
  },
  {
   "cell_type": "markdown",
   "id": "fb27eff4",
   "metadata": {},
   "source": [
    "# Hangi dilde yayımlanan filmler en düşük ortalama IMBD puanına sahiptir? Görselleştiriniz."
   ]
  },
  {
   "cell_type": "code",
   "execution_count": 30,
   "id": "e701ce64",
   "metadata": {},
   "outputs": [
    {
     "name": "stdout",
     "output_type": "stream",
     "text": [
      "Language\n",
      "Malay               4.200000\n",
      "English/Japanese    4.400000\n",
      "Filipino            5.100000\n",
      "Norwegian           5.100000\n",
      "Polish              5.166667\n",
      "Thai                5.450000\n",
      "Swedish             5.500000\n",
      "Italian             5.542857\n",
      "Spanish/Basque      5.600000\n",
      "German              5.640000\n",
      "Turkish             5.660000\n",
      "French              5.770000\n",
      "Dutch               5.800000\n",
      "Indonesian          5.844444\n",
      "Korean              5.916667\n",
      "Name: IMDB Score, dtype: float64\n"
     ]
    }
   ],
   "source": [
    "lowest_imdb = data.groupby(\"Language\")[\"IMDB Score\"].mean().nsmallest(15)\n",
    "print(lowest_imdb)"
   ]
  },
  {
   "cell_type": "code",
   "execution_count": 31,
   "id": "89ebd203",
   "metadata": {},
   "outputs": [
    {
     "data": {
      "image/png": "[encoded data removed]",
      "text/plain": [
       "<Figure size 432x288 with 1 Axes>"
      ]
     },
     "metadata": {
      "needs_background": "light"
     },
     "output_type": "display_data"
    }
   ],
   "source": [
    "sns.pointplot(y=lowest_imdb.values, x=lowest_imdb.index, palette=\"rocket\")\n",
    "sns.lineplot(y=lowest_imdb.values, x=lowest_imdb.index)\n",
    "plt.xticks(rotation=90)\n",
    "plt.show()"
   ]
  },
  {
   "cell_type": "markdown",
   "id": "ddcb3076",
   "metadata": {},
   "source": [
    "# Hangi yılın toplam \"runtime\" süresi en fazladır?"
   ]
  },
  {
   "cell_type": "code",
   "execution_count": 32,
   "id": "7e5f9d19",
   "metadata": {},
   "outputs": [
    {
     "name": "stdout",
     "output_type": "stream",
     "text": [
      "Year\n",
      "2020    17384\n",
      "Name: Runtime, dtype: int64\n"
     ]
    }
   ],
   "source": [
    "total_runtime = data.groupby(\"Year\")[\"Runtime\"].sum().nlargest(1)\n",
    "print(total_runtime)"
   ]
  },
  {
   "cell_type": "markdown",
   "id": "bb28ac89",
   "metadata": {},
   "source": [
    "# Her bir dilin en fazla kullanıldığı \"Genre\" nedir?"
   ]
  },
  {
   "cell_type": "code",
   "execution_count": 33,
   "id": "48c370ea",
   "metadata": {},
   "outputs": [
    {
     "data": {
      "text/plain": [
       "Language                    Genre                \n",
       "Bengali                     Documentary                1\n",
       "Dutch                       Crime drama                1\n",
       "English                     Documentary              120\n",
       "English/Akan                War drama                  1\n",
       "English/Arabic              Documentary                1\n",
       "English/Hindi               Documentary                2\n",
       "English/Japanese            Crime drama                1\n",
       "English/Korean              Action-adventure           1\n",
       "English/Mandarin            Documentary                2\n",
       "English/Russian             Documentary                1\n",
       "English/Spanish             Documentary                5\n",
       "English/Swedish             Documentary                1\n",
       "English/Taiwanese/Mandarin  Drama                      1\n",
       "English/Ukranian/Russian    Documentary                1\n",
       "Filipino                    Drama                      1\n",
       "French                      Documentary                6\n",
       "Georgian                    Documentary                1\n",
       "German                      Drama                      1\n",
       "Hindi                       Drama                     13\n",
       "Indonesian                  Drama                      3\n",
       "Italian                     Drama                      4\n",
       "Japanese                    Anime/Science fiction      2\n",
       "Khmer/English/French        Drama                      1\n",
       "Korean                      Drama                      2\n",
       "Malay                       Action comedy              1\n",
       "Marathi                     Drama                      2\n",
       "Norwegian                   Horror                     1\n",
       "Polish                      Horror                     1\n",
       "Portuguese                  Comedy                     6\n",
       "Spanish                     Documentary                8\n",
       "Spanish/Basque              Black comedy               1\n",
       "Spanish/Catalan             Documentary                1\n",
       "Spanish/English             Documentary                1\n",
       "Swedish                     Thriller                   1\n",
       "Tamil                       Drama                      1\n",
       "Thai                        Documentary                1\n",
       "Thia/English                Documentary                1\n",
       "Turkish                     Comedy                     2\n",
       "Name: Genre, dtype: int64"
      ]
     },
     "execution_count": 33,
     "metadata": {},
     "output_type": "execute_result"
    }
   ],
   "source": [
    "language_genre = data.groupby([\"Language\"])[\"Genre\"].value_counts(sort=True).groupby(level=0).head(1)\n",
    "language_genre"
   ]
  },
  {
   "cell_type": "markdown",
   "id": "dfec115d",
   "metadata": {},
   "source": [
    "# Veri setinde outlier veri var mıdır? Açıklayınız."
   ]
  },
  {
   "cell_type": "code",
   "execution_count": 34,
   "id": "efecd1d8",
   "metadata": {},
   "outputs": [],
   "source": [
    "def find_outlier(data):\n",
    "    \n",
    "    Q1 = data.quantile(0.25)\n",
    "    Q3 = data.quantile(0.75)\n",
    "    IQR = Q3 - Q1\n",
    "\n",
    "    lower_bound = Q1 - 1.5*IQR\n",
    "    upper_bound = Q3 + 1.5*IQR\n",
    "\n",
    "    print('Lower bound is ' + str(lower_bound))\n",
    "    print('Upper bound is ' + str(upper_bound))\n",
    "    print(\"Q1: \",Q1)\n",
    "    print(\"Q3: \",Q3)\n",
    "    print(\"\\n\")\n",
    "    \n",
    "    outliers_vector = (data < (lower_bound)) | (data > (upper_bound))\n",
    "    outliers = data[outliers_vector]\n",
    "    print(outliers.index)"
   ]
  },
  {
   "cell_type": "code",
   "execution_count": 35,
   "id": "d5066a5f",
   "metadata": {},
   "outputs": [
    {
     "name": "stdout",
     "output_type": "stream",
     "text": [
      "Lower bound is 53.0\n",
      "Upper bound is 141.0\n",
      "Q1:  86.0\n",
      "Q3:  108.0\n",
      "\n",
      "\n",
      "Int64Index([  5,   7,  15,  16,  30,  33,  40,  66, 111, 118, 133, 152, 179,\n",
      "            194, 197, 199, 244, 247, 263, 278, 284, 295, 301, 309, 320, 325,\n",
      "            326, 328, 334, 345, 363, 365, 378, 389, 393, 394, 402, 407, 410,\n",
      "            417, 427, 430, 434, 436, 439, 442, 445, 446, 451, 452, 453, 457,\n",
      "            459, 471, 473, 485, 496, 498, 501, 506, 509, 513, 521, 522, 524,\n",
      "            528, 529, 541, 543, 545, 552, 560, 561, 577, 581],\n",
      "           dtype='int64')\n"
     ]
    }
   ],
   "source": [
    "outlier_runtime = data['Runtime']\n",
    "find_outlier(outlier_runtime) # outlier degerlerin indexlerini yazdirir."
   ]
  },
  {
   "cell_type": "code",
   "execution_count": 36,
   "id": "c6f5866e",
   "metadata": {},
   "outputs": [
    {
     "data": {
      "image/png": "[encoded data removed]",
      "text/plain": [
       "<Figure size 432x288 with 1 Axes>"
      ]
     },
     "metadata": {
      "needs_background": "light"
     },
     "output_type": "display_data"
    }
   ],
   "source": [
    "# Runtime outlier degerlerini goruntulemek icin boxplot\n",
    "sns.boxplot(x=outlier_runtime)\n",
    "plt.show()"
   ]
  },
  {
   "cell_type": "code",
   "execution_count": 37,
   "id": "f6f63a83",
   "metadata": {},
   "outputs": [
    {
     "name": "stdout",
     "output_type": "stream",
     "text": [
      "Lower bound is 3.7500000000000004\n",
      "Upper bound is 8.95\n",
      "Q1:  5.7\n",
      "Q3:  7.0\n",
      "\n",
      "\n",
      "Int64Index([0, 1, 2, 3, 4, 5, 6, 7, 583], dtype='int64')\n"
     ]
    }
   ],
   "source": [
    "outlier_imdb = data['IMDB Score']\n",
    "find_outlier(outlier_imdb) # outlier degerlerin indexlerini yazdirir."
   ]
  },
  {
   "cell_type": "code",
   "execution_count": 38,
   "id": "ea44297a",
   "metadata": {},
   "outputs": [
    {
     "data": {
      "image/png": "[encoded data removed]",
      "text/plain": [
       "<Figure size 432x288 with 1 Axes>"
      ]
     },
     "metadata": {
      "needs_background": "light"
     },
     "output_type": "display_data"
    }
   ],
   "source": [
    "# IMDB Score outlier degerlerini goruntulemek icin boxplot\n",
    "sns.boxplot(x=outlier_imdb)\n",
    "plt.show()"
   ]
  },
  {
   "cell_type": "code",
   "execution_count": null,
   "id": "b74a88ec",
   "metadata": {},
   "outputs": [],
   "source": []
  }
 ],
 "metadata": {
  "kernelspec": {
   "display_name": "Python 3 (ipykernel)",
   "language": "python",
   "name": "python3"
  },
  "language_info": {
   "codemirror_mode": {
    "name": "ipython",
    "version": 3
   },
   "file_extension": ".py",
   "mimetype": "text/x-python",
   "name": "python",
   "nbconvert_exporter": "python",
   "pygments_lexer": "ipython3",
   "version": "3.9.7"
  }
 },
 "nbformat": 4,
 "nbformat_minor": 5
}
